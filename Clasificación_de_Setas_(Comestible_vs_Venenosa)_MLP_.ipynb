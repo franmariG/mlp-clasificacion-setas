{
  "cells": [
    {
      "cell_type": "markdown",
      "metadata": {
        "id": "view-in-github",
        "colab_type": "text"
      },
      "source": [
        "<a href=\"https://colab.research.google.com/github/franmariG/mlp-clasificacion-setas/blob/main/Clasificaci%C3%B3n_de_Setas_(Comestible_vs_Venenosa)_MLP_.ipynb\" target=\"_parent\"><img src=\"https://colab.research.google.com/assets/colab-badge.svg\" alt=\"Open In Colab\"/></a>"
      ]
    },
    {
      "cell_type": "markdown",
      "metadata": {
        "id": "auwzb0qILefg"
      },
      "source": [
        "# Importación de Librerias\n",
        "\n"
      ]
    },
    {
      "cell_type": "code",
      "execution_count": null,
      "metadata": {
        "id": "k-WnnY8uKqyi"
      },
      "outputs": [],
      "source": [
        "# Se importan las librerías necesarias para el desarrollo del proyecto.\n",
        "\n",
        "import pandas as pd  # Para la manipulación y análisis de datos en estructuras tipo DataFrame.\n",
        "import numpy as np  # Para el manejo de arreglos y operaciones numéricas de bajo nivel.\n",
        "from sklearn.model_selection import train_test_split  # Para dividir el dataset en conjuntos de entrenamiento y prueba.\n",
        "from sklearn.preprocessing import LabelEncoder  # Para codificar los atributos categóricos en valores numéricos.\n",
        "from sklearn.metrics import confusion_matrix, classification_report  # Para evaluar el desempeño del modelo mediante métricas y matriz de confusión.\n",
        "import matplotlib.pyplot as plt  # Para la generación de gráficos y visualizaciones.\n",
        "import seaborn as sns  # Para gráficos más estéticos y personalizados, como el mapa de calor de la matriz de confusión."
      ]
    },
    {
      "cell_type": "markdown",
      "source": [
        "# Descarga automática del dataset desde Google Drive"
      ],
      "metadata": {
        "id": "_7H4htbemQEU"
      }
    },
    {
      "cell_type": "code",
      "source": [
        "# Descarga automática del dataset desde Google Drive mediante gdown.\n",
        "# El archivo descargado se guarda con el nombre 'mushrooms.csv'.\n",
        "# Esto permite que el dataset esté disponible en el entorno de ejecución sin necesidad de cargarlo manualmente.\n",
        "\n",
        "!gdown \"https://drive.google.com/uc?id=1t5W53ml1KG5QSa4QY2JB9OtCKqEb_NCj\" -O mushrooms.csv"
      ],
      "metadata": {
        "colab": {
          "base_uri": "https://localhost:8080/"
        },
        "id": "n2_buhgqmUti",
        "outputId": "09a23e72-d236-4140-8436-cfe98253235e"
      },
      "execution_count": null,
      "outputs": [
        {
          "output_type": "stream",
          "name": "stdout",
          "text": [
            "Downloading...\n",
            "From: https://drive.google.com/uc?id=1t5W53ml1KG5QSa4QY2JB9OtCKqEb_NCj\n",
            "To: /content/mushrooms.csv\n",
            "\r  0% 0.00/374k [00:00<?, ?B/s]\r100% 374k/374k [00:00<00:00, 13.9MB/s]\n"
          ]
        }
      ]
    },
    {
      "cell_type": "markdown",
      "metadata": {
        "id": "hUGzZYTHLuhN"
      },
      "source": [
        "# Preparación de los datos"
      ]
    },
    {
      "cell_type": "code",
      "execution_count": null,
      "metadata": {
        "colab": {
          "base_uri": "https://localhost:8080/"
        },
        "id": "ni0SmHJQPxMl",
        "outputId": "2d9009b3-5780-44da-de77-77aabf14a354"
      },
      "outputs": [
        {
          "output_type": "stream",
          "name": "stdout",
          "text": [
            "Tamaño del conjunto de entrenamiento: (3386, 21)\n",
            "Tamaño del conjunto de prueba: (2258, 21)\n"
          ]
        }
      ],
      "source": [
        "# En esta sección se realiza el preprocesamiento del dataset antes de entrenar el modelo.\n",
        "# Esto incluye: carga del archivo, eliminación de columnas sin variabilidad, manejo de valores faltantes\n",
        "# y codificación de los atributos categóricos en valores numéricos. Finalmente, se separan las variables predictoras\n",
        "# y la clase objetivo, y se divide el dataset en conjuntos de entrenamiento y prueba.\n",
        "\n",
        "# Cargar el dataset\n",
        "df = pd.read_csv(\"mushrooms.csv\")\n",
        "\n",
        "# Eliminar columna sin variación\n",
        "if 'veil-type' in df.columns:\n",
        "    df = df.drop(columns=['veil-type'])\n",
        "\n",
        "# Reemplazar posibles valores faltantes ('?') por NaN y luego eliminar esas filas\n",
        "df.replace('?', np.nan, inplace=True)\n",
        "df.dropna(inplace=True)\n",
        "\n",
        "# Codificar todas las columnas categóricas a números\n",
        "label_encoders = {}\n",
        "for column in df.columns:\n",
        "    le = LabelEncoder()\n",
        "    df[column] = le.fit_transform(df[column])\n",
        "    label_encoders[column] = le  # Guardamos por si se necesita decodificar luego\n",
        "\n",
        "# Separar características (X) y clase (y)\n",
        "X = df.drop(columns=['class']).values\n",
        "y = df['class'].values.reshape(-1, 1)\n",
        "\n",
        "# Dividir en entrenamiento y prueba (60% - 40%)\n",
        "X_train, X_test, y_train, y_test = train_test_split(X, y, test_size=0.4, random_state=42)\n",
        "\n",
        "# Mostrar tamaños\n",
        "print(\"Tamaño del conjunto de entrenamiento:\", X_train.shape)\n",
        "print(\"Tamaño del conjunto de prueba:\", X_test.shape)"
      ]
    },
    {
      "cell_type": "markdown",
      "metadata": {
        "id": "OzJ5s_reSWd1"
      },
      "source": [
        "# Construcción del Modelo MLP"
      ]
    },
    {
      "cell_type": "code",
      "execution_count": null,
      "metadata": {
        "id": "HMG8bFHmSdJS"
      },
      "outputs": [],
      "source": [
        "# En esta sección se definen las funciones de activación y la clase que representa el Perceptrón Multicapa (MLP).\n",
        "\n",
        "# Función de activación sigmoide: se usa en la capa de salida para producir valores entre 0 y 1 (probabilidades).\n",
        "def sigmoid(x):\n",
        "    return 1 / (1 + np.exp(-x))\n",
        "\n",
        "# Derivada de la función sigmoide: necesaria para el cálculo del gradiente durante la retropropagación.\n",
        "def sigmoid_deriv(x):\n",
        "    s = sigmoid(x)\n",
        "    return s * (1 - s)\n",
        "\n",
        "# Función de activación ReLU: se usa en la capa oculta para introducir no linealidad y mejorar el aprendizaje.\n",
        "def relu(x):\n",
        "    return np.maximum(0, x)\n",
        "\n",
        "# Derivada de la función ReLU: se utiliza en la retropropagación para actualizar los pesos de la capa oculta.\n",
        "def relu_deriv(x):\n",
        "    return (x > 0).astype(float)\n",
        "\n",
        "# Clase MLP: define la arquitectura y los métodos de entrenamiento y predicción del Perceptrón Multicapa.\n",
        "class MLP:\n",
        "    def __init__(self, input_size, hidden_size, output_size, learning_rate=0.1):\n",
        "        self.lr = learning_rate  # Tasa de aprendizaje\n",
        "        self.losses = []  # Registro de la pérdida en cada época\n",
        "        self.accuracies = []  # Registro de la precisión en cada época\n",
        "\n",
        "        # Inicialización de los pesos y sesgos para la capa de entrada a oculta\n",
        "        self.W1 = np.random.randn(input_size, hidden_size) * 0.01\n",
        "        self.b1 = np.zeros((1, hidden_size))\n",
        "\n",
        "        # Inicialización de los pesos y sesgos para la capa oculta a salida\n",
        "        self.W2 = np.random.randn(hidden_size, output_size) * 0.01\n",
        "        self.b2 = np.zeros((1, output_size))\n",
        "\n",
        "    # Propagación hacia adelante: calcula las salidas de cada capa.\n",
        "    def forward(self, X):\n",
        "        self.z1 = np.dot(X, self.W1) + self.b1\n",
        "        self.a1 = relu(self.z1)\n",
        "\n",
        "        self.z2 = np.dot(self.a1, self.W2) + self.b2\n",
        "        self.a2 = sigmoid(self.z2)\n",
        "\n",
        "        return self.a2\n",
        "\n",
        "    # Retropropagación: actualiza los pesos y sesgos para minimizar la pérdida.\n",
        "    def backpropagate(self, X, y, output):\n",
        "        error = output - y\n",
        "        d_output = error * sigmoid_deriv(self.z2)\n",
        "\n",
        "        d_hidden = np.dot(d_output, self.W2.T) * relu_deriv(self.z1)\n",
        "\n",
        "        self.W2 -= self.lr * np.dot(self.a1.T, d_output)\n",
        "        self.b2 -= self.lr * np.sum(d_output, axis=0, keepdims=True)\n",
        "\n",
        "        self.W1 -= self.lr * np.dot(X.T, d_hidden)\n",
        "        self.b1 -= self.lr * np.sum(d_hidden, axis=0, keepdims=True)\n",
        "\n",
        "    # Método de entrenamiento: ejecuta el proceso de forward y backpropagation durante el número de épocas definido.\n",
        "    def train(self, X, y, epochs=100):\n",
        "        for epoch in range(epochs):\n",
        "            output = self.forward(X)\n",
        "            self.backpropagate(X, y, output)\n",
        "            loss = np.mean((y - output) ** 2)\n",
        "            self.losses.append(loss)\n",
        "\n",
        "            predictions = (output > 0.5).astype(int)\n",
        "            accuracy = np.mean(predictions == y)\n",
        "            self.accuracies.append(accuracy)\n",
        "\n",
        "            if (epoch + 1) % 10 == 0:\n",
        "                print(f\"Epoch {epoch+1}, Loss: {loss:.4f}\")\n",
        "\n",
        "    # Método predict: realiza una predicción binaria en base al umbral de 0.5.\n",
        "    def predict(self, X):\n",
        "        output = self.forward(X)\n",
        "        return (output > 0.5).astype(int)\n",
        "\n",
        "    # Método evaluate: calcula la precisión sobre un conjunto de datos dado.\n",
        "    def evaluate(self, X, y):\n",
        "        predictions = self.predict(X)\n",
        "        accuracy = np.mean(predictions == y)\n",
        "        return accuracy"
      ]
    },
    {
      "cell_type": "markdown",
      "metadata": {
        "id": "5B3nbd07Siyr"
      },
      "source": [
        "# Entrenamiento del modelo"
      ]
    },
    {
      "cell_type": "code",
      "execution_count": null,
      "metadata": {
        "colab": {
          "base_uri": "https://localhost:8080/"
        },
        "id": "um-WXQiESrU9",
        "outputId": "c5d18c1b-4c96-4b0b-8967-ebcdb33c790c"
      },
      "outputs": [
        {
          "output_type": "stream",
          "name": "stdout",
          "text": [
            "Epoch 10, Loss: 0.2369\n",
            "Epoch 20, Loss: 0.2679\n",
            "Epoch 30, Loss: 0.1922\n",
            "Epoch 40, Loss: 0.1426\n",
            "Epoch 50, Loss: 0.1263\n",
            "Epoch 60, Loss: 0.1013\n",
            "Epoch 70, Loss: 0.0932\n",
            "Epoch 80, Loss: 0.0960\n",
            "Epoch 90, Loss: 0.0865\n",
            "Epoch 100, Loss: 0.0851\n",
            "Epoch 110, Loss: 0.0803\n",
            "Epoch 120, Loss: 0.0773\n",
            "Epoch 130, Loss: 0.0744\n",
            "Epoch 140, Loss: 0.0732\n",
            "Epoch 150, Loss: 0.0714\n",
            "Epoch 160, Loss: 0.0697\n",
            "Epoch 170, Loss: 0.0683\n",
            "Epoch 180, Loss: 0.0746\n",
            "Epoch 190, Loss: 0.0590\n",
            "Epoch 200, Loss: 0.0605\n",
            "Epoch 210, Loss: 0.0561\n",
            "Epoch 220, Loss: 0.0493\n",
            "Epoch 230, Loss: 0.1003\n",
            "Epoch 240, Loss: 0.0398\n",
            "Epoch 250, Loss: 0.0670\n",
            "Epoch 260, Loss: 0.0402\n",
            "Epoch 270, Loss: 0.0407\n",
            "Epoch 280, Loss: 0.0521\n",
            "Epoch 290, Loss: 0.0711\n",
            "Epoch 300, Loss: 0.0519\n",
            "Epoch 310, Loss: 0.0308\n",
            "Epoch 320, Loss: 0.0413\n",
            "Epoch 330, Loss: 0.0278\n",
            "Epoch 340, Loss: 0.0235\n",
            "Epoch 350, Loss: 0.0248\n",
            "Epoch 360, Loss: 0.0190\n",
            "Epoch 370, Loss: 0.0279\n",
            "Epoch 380, Loss: 0.0176\n",
            "Epoch 390, Loss: 0.0151\n",
            "Epoch 400, Loss: 0.0287\n",
            "Epoch 410, Loss: 0.0186\n",
            "Epoch 420, Loss: 0.0144\n",
            "Epoch 430, Loss: 0.0136\n",
            "Epoch 440, Loss: 0.0128\n",
            "Epoch 450, Loss: 0.0122\n",
            "Epoch 460, Loss: 0.0117\n",
            "Epoch 470, Loss: 0.0120\n",
            "Epoch 480, Loss: 0.0116\n",
            "Epoch 490, Loss: 0.0108\n",
            "Epoch 500, Loss: 0.0110\n",
            "Epoch 510, Loss: 0.0103\n",
            "Epoch 520, Loss: 0.0099\n",
            "Epoch 530, Loss: 0.0096\n",
            "Epoch 540, Loss: 0.0095\n",
            "Epoch 550, Loss: 0.0094\n",
            "Epoch 560, Loss: 0.0094\n",
            "Epoch 570, Loss: 0.0093\n",
            "Epoch 580, Loss: 0.0092\n",
            "Epoch 590, Loss: 0.0092\n",
            "Epoch 600, Loss: 0.0091\n",
            "Epoch 610, Loss: 0.0091\n",
            "Epoch 620, Loss: 0.0090\n",
            "Epoch 630, Loss: 0.0090\n",
            "Epoch 640, Loss: 0.0089\n",
            "Epoch 650, Loss: 0.0089\n",
            "Epoch 660, Loss: 0.0089\n",
            "Epoch 670, Loss: 0.0088\n",
            "Epoch 680, Loss: 0.0088\n",
            "Epoch 690, Loss: 0.0088\n",
            "Epoch 700, Loss: 0.0088\n",
            "Epoch 710, Loss: 0.0087\n",
            "Epoch 720, Loss: 0.0087\n",
            "Epoch 730, Loss: 0.0087\n",
            "Epoch 740, Loss: 0.0087\n",
            "Epoch 750, Loss: 0.0087\n",
            "Epoch 760, Loss: 0.0086\n",
            "Epoch 770, Loss: 0.0086\n",
            "Epoch 780, Loss: 0.0086\n",
            "Epoch 790, Loss: 0.0086\n",
            "Epoch 800, Loss: 0.0086\n",
            "Epoch 810, Loss: 0.0086\n",
            "Epoch 820, Loss: 0.0085\n",
            "Epoch 830, Loss: 0.0085\n",
            "Epoch 840, Loss: 0.0085\n",
            "Epoch 850, Loss: 0.0085\n",
            "Epoch 860, Loss: 0.0085\n",
            "Epoch 870, Loss: 0.0085\n",
            "Epoch 880, Loss: 0.0085\n",
            "Epoch 890, Loss: 0.0085\n",
            "Epoch 900, Loss: 0.0085\n",
            "Epoch 910, Loss: 0.0084\n",
            "Epoch 920, Loss: 0.0084\n",
            "Epoch 930, Loss: 0.0084\n",
            "Epoch 940, Loss: 0.0084\n",
            "Epoch 950, Loss: 0.0084\n",
            "Epoch 960, Loss: 0.0084\n",
            "Epoch 970, Loss: 0.0084\n",
            "Epoch 980, Loss: 0.0084\n",
            "Epoch 990, Loss: 0.0084\n",
            "Epoch 1000, Loss: 0.0084\n"
          ]
        }
      ],
      "source": [
        "# Entrenamiento del modelo\n",
        "# Se crea una instancia del Perceptrón Multicapa (MLP) con:\n",
        "# - 21 neuronas en la capa de entrada (una por cada atributo predictivo)\n",
        "# - 30 neuronas en la capa oculta (ajustadas tras pruebas para mejorar el rendimiento)\n",
        "# - 1 neurona en la capa de salida (para clasificación binaria)\n",
        "# - Tasa de aprendizaje de 0.001 (elegida para un aprendizaje más estable)\n",
        "# El modelo se entrena durante 1000 épocas para permitir la convergencia de la pérdida.\n",
        "\n",
        "model = MLP(input_size=21, hidden_size=30, output_size=1, learning_rate=0.001)\n",
        "model.train(X_train, y_train, epochs=1000)"
      ]
    },
    {
      "cell_type": "markdown",
      "source": [
        "# Evaluación del Modelo\n",
        "\n",
        "\n"
      ],
      "metadata": {
        "id": "KN5_dJYDsdqh"
      }
    },
    {
      "cell_type": "markdown",
      "source": [
        "## Precisión del Modelo"
      ],
      "metadata": {
        "id": "5yuPSRfEsIJX"
      }
    },
    {
      "cell_type": "code",
      "source": [
        "# Se calcula la precisión (accuracy) del modelo sobre los conjuntos de entrenamiento y prueba.\n",
        "# Esto permite evaluar qué tan bien generaliza el modelo a datos no vistos.\n",
        "\n",
        "train_acc = model.evaluate(X_train, y_train)\n",
        "test_acc = model.evaluate(X_test, y_test)\n",
        "\n",
        "print(f\"Precisión en entrenamiento: {train_acc * 100:.2f}%\")\n",
        "print(f\"Precisión en prueba: {test_acc * 100:.2f}%\")"
      ],
      "metadata": {
        "colab": {
          "base_uri": "https://localhost:8080/"
        },
        "id": "-8lOkRJ8sla3",
        "outputId": "40666a48-5e99-44c3-90c9-7fb74114ce4b"
      },
      "execution_count": null,
      "outputs": [
        {
          "output_type": "stream",
          "name": "stdout",
          "text": [
            "Precisión en entrenamiento: 99.20%\n",
            "Precisión en prueba: 99.60%\n"
          ]
        }
      ]
    },
    {
      "cell_type": "markdown",
      "source": [
        "## Matriz de confusión\n",
        "\n"
      ],
      "metadata": {
        "id": "QaKKddqTtV_l"
      }
    },
    {
      "cell_type": "code",
      "source": [
        "# Se generan las predicciones del modelo sobre el conjunto de prueba.\n",
        "# La matriz de confusión permite visualizar cuántas instancias fueron clasificadas correctamente o incorrectamente.\n",
        "\n",
        "y_pred = model.predict(X_test)\n",
        "\n",
        "# La matriz espera vectores 1D, por eso se usa ravel() para aplanar las etiquetas reales y predichas.\n",
        "cm = confusion_matrix(y_test.ravel(), y_pred.ravel())\n",
        "\n",
        "print(\"Matriz de confusión:\")\n",
        "print(cm)"
      ],
      "metadata": {
        "colab": {
          "base_uri": "https://localhost:8080/"
        },
        "id": "j3WuzZd_tbeK",
        "outputId": "32ad4f64-1359-427f-d959-5111996ac6b3"
      },
      "execution_count": null,
      "outputs": [
        {
          "output_type": "stream",
          "name": "stdout",
          "text": [
            "Matriz de confusión:\n",
            "[[1403    0]\n",
            " [   9  846]]\n"
          ]
        }
      ]
    },
    {
      "cell_type": "markdown",
      "source": [
        "## Reporte de clasificación"
      ],
      "metadata": {
        "id": "WQrNyD3rt5F9"
      }
    },
    {
      "cell_type": "code",
      "source": [
        "# Se genera el reporte de clasificación que incluye las métricas de precisión, recall y f1-score para cada clase.\n",
        "# Esto permite un análisis más detallado del rendimiento por categoría.\n",
        "\n",
        "target_names = label_encoders['class'].classes_\n",
        "print(\"Reporte de clasificación:\")\n",
        "print(classification_report(y_test, y_pred, target_names=[\"comestible\", \"venenosa\"]))"
      ],
      "metadata": {
        "colab": {
          "base_uri": "https://localhost:8080/"
        },
        "id": "VM7rH-zbt7V4",
        "outputId": "0bcf2487-dc1b-4dbd-c230-83a3937e6ef4"
      },
      "execution_count": null,
      "outputs": [
        {
          "output_type": "stream",
          "name": "stdout",
          "text": [
            "Reporte de clasificación:\n",
            "              precision    recall  f1-score   support\n",
            "\n",
            "  comestible       0.99      1.00      1.00      1403\n",
            "    venenosa       1.00      0.99      0.99       855\n",
            "\n",
            "    accuracy                           1.00      2258\n",
            "   macro avg       1.00      0.99      1.00      2258\n",
            "weighted avg       1.00      1.00      1.00      2258\n",
            "\n"
          ]
        }
      ]
    },
    {
      "cell_type": "markdown",
      "source": [
        "# Validación del modelo con instancias artificiales y reales"
      ],
      "metadata": {
        "id": "CSlNV0jm0Oif"
      }
    },
    {
      "cell_type": "code",
      "source": [
        "# En esta sección se crean ejemplos manuales de setas para probar la capacidad del modelo para predecir nuevas instancias.\n",
        "\n",
        "# Ejemplo de una seta artificial con características típicas de una venenosa\n",
        "seta_nueva_venenosa = {\n",
        "    'cap-shape': 'x',  # convex\n",
        "    'cap-surface': 'y',  # scaly\n",
        "    'cap-color': 'e',  # red\n",
        "    'bruises': 'f',  # no bruises\n",
        "    'odor': 'f',  # foul (típico de setas venenosas en el dataset)\n",
        "    'gill-attachment': 'f',  # free\n",
        "    'gill-spacing': 'c',  # close\n",
        "    'gill-size': 'n',  # narrow\n",
        "    'gill-color': 'r',  # black\n",
        "    'stalk-shape': 'e',  # enlarging\n",
        "    'stalk-root': 'b',  # bulbous\n",
        "    'stalk-surface-above-ring': 's',  # smooth\n",
        "    'stalk-surface-below-ring': 's',\n",
        "    'stalk-color-above-ring': 'w',\n",
        "    'stalk-color-below-ring': 'w',\n",
        "    'veil-color': 'w',\n",
        "    'ring-number': 'o',  # one\n",
        "    'ring-type': 'p',  # pendant\n",
        "    'spore-print-color': 'k',  # black\n",
        "    'population': 'v',\n",
        "    'habitat': 'u'  # urban\n",
        "}\n",
        "\n",
        "# Ejemplo de una seta artificial con características típicas de una comestible\n",
        "seta_nueva_comestible = {\n",
        "    'cap-shape': 'x',\n",
        "    'cap-surface': 's',  # smooth\n",
        "    'cap-color': 'n',  # brown\n",
        "    'bruises': 't',  # bruises\n",
        "    'odor': 'a',  # almond (típico de setas comestibles)\n",
        "    'gill-attachment': 'f',\n",
        "    'gill-spacing': 'w',  # crowded\n",
        "    'gill-size': 'b',  # broad\n",
        "    'gill-color': 'n',\n",
        "    'stalk-shape': 'e',\n",
        "    'stalk-root': 'b',\n",
        "    'stalk-surface-above-ring': 's',\n",
        "    'stalk-surface-below-ring': 's',\n",
        "    'stalk-color-above-ring': 'w',\n",
        "    'stalk-color-below-ring': 'w',\n",
        "    'veil-color': 'w',\n",
        "    'ring-number': 'o',\n",
        "    'ring-type': 'p',\n",
        "    'spore-print-color': 'w',\n",
        "    'population': 'v',\n",
        "    'habitat': 'g'  # grasses\n",
        "}\n",
        "\n",
        "# Ejemplo de una seta inspirada en la Gyromitra esculenta\n",
        "seta_gyromitra = {\n",
        "    'cap-shape': 'b',\n",
        "    'cap-surface': 'y',\n",
        "    'cap-color': 'e',\n",
        "    'bruises': 'f',\n",
        "    'odor': 'n',  # se puede modificar a 'f' para observar el efecto\n",
        "    'gill-attachment': 'f',\n",
        "    'gill-spacing': 'c',\n",
        "    'gill-size': 'n',\n",
        "    'gill-color': 'k',\n",
        "    'stalk-shape': 'e',\n",
        "    'stalk-root': 'b',\n",
        "    'stalk-surface-above-ring': 'y',\n",
        "    'stalk-surface-below-ring': 'y',\n",
        "    'stalk-color-above-ring': 'n',\n",
        "    'stalk-color-below-ring': 'n',\n",
        "    'veil-color': 'w',\n",
        "    'ring-number': 'n',\n",
        "    'ring-type': 'e',\n",
        "    'spore-print-color': 'k',\n",
        "    'population': 'y',\n",
        "    'habitat': 'd'\n",
        "}\n",
        "\n",
        "# Codificación y predicción para la seta Gyromitra\n",
        "valores_codificados = []\n",
        "\n",
        "# Si se desea probar otra seta (por ejemplo, 'seta_nueva_comestible' o 'seta_nueva_venenosa'),\n",
        "# basta con cambiar 'seta_gyromitra.items()' por el diccionario correspondiente, por ejemplo:\n",
        "# for feature, valor in seta_nueva_comestible.items():\n",
        "for feature, valor in seta_gyromitra.items():\n",
        "    valor_cod = label_encoders[feature].transform([valor])[0]\n",
        "    valores_codificados.append(valor_cod)\n",
        "\n",
        "entrada = np.array(valores_codificados).reshape(1, -1)\n",
        "pred = model.predict(entrada)\n",
        "\n",
        "# Interpretación del resultado\n",
        "print(\"Resultado:\", \"venenosa\" if pred[0][0] == 1 else \"comestible\")"
      ],
      "metadata": {
        "colab": {
          "base_uri": "https://localhost:8080/"
        },
        "id": "TEZS5ta45Pfg",
        "outputId": "87c968c3-77c0-4449-b429-8aa53396420b"
      },
      "execution_count": null,
      "outputs": [
        {
          "output_type": "stream",
          "name": "stdout",
          "text": [
            "Resultado: comestible\n"
          ]
        }
      ]
    },
    {
      "cell_type": "markdown",
      "source": [
        "# Visualización de resultados"
      ],
      "metadata": {
        "id": "h-Hv0xRZuWqr"
      }
    },
    {
      "cell_type": "markdown",
      "source": [
        "Las gráficas se generaron para exportarlas e incluirlas como figuras en el paper, donde son analizadas.\n"
      ],
      "metadata": {
        "id": "cDhAIucykYiq"
      }
    },
    {
      "cell_type": "markdown",
      "source": [
        "## Matriz de confusión (visualización)\n",
        "\n"
      ],
      "metadata": {
        "id": "f5LOuaAdePqW"
      }
    },
    {
      "cell_type": "code",
      "source": [
        "# Gráfica de la matriz de confusión.\n",
        "# Permite visualizar de forma clara el desempeño del modelo, mostrando las predicciones correctas e incorrectas.\n",
        "# Los ejes muestran las clases reales y predichas, y los colores indican la frecuencia de cada combinación.\n",
        "\n",
        "sns.heatmap(cm, annot=True, fmt='d', cmap='YlGnBu', xticklabels=target_names, yticklabels=target_names)\n",
        "plt.xlabel(\"Predicción\")\n",
        "plt.ylabel(\"Real\")\n",
        "plt.title(\"Matriz de Confusión\")\n",
        "plt.show()"
      ],
      "metadata": {
        "colab": {
          "base_uri": "https://localhost:8080/",
          "height": 472
        },
        "id": "GQnIaOvCuY_U",
        "outputId": "f434ddc7-62ff-4b01-ac8b-0283a5ec3038"
      },
      "execution_count": null,
      "outputs": [
        {
          "output_type": "display_data",
          "data": {
            "text/plain": [
              "<Figure size 640x480 with 2 Axes>"
            ],
            "image/png": "[encoded data removed]"
          },
          "metadata": {}
        }
      ]
    },
    {
      "cell_type": "markdown",
      "source": [
        "## Curva de pérdida del entrenamiento"
      ],
      "metadata": {
        "id": "fubSdsugedwh"
      }
    },
    {
      "cell_type": "code",
      "source": [
        "# Gráfica de la curva de pérdida durante el entrenamiento.\n",
        "# Muestra cómo la función de pérdida (error cuadrático medio) disminuye a lo largo de las épocas,\n",
        "# lo que permite analizar el proceso de aprendizaje del modelo.\n",
        "\n",
        "plt.plot(model.losses)\n",
        "plt.xlabel(\"Épocas\")\n",
        "plt.ylabel(\"Pérdida (Loss)\")\n",
        "plt.title(\"Curva de pérdida durante el entrenamiento\")\n",
        "plt.grid(True)\n",
        "plt.show()"
      ],
      "metadata": {
        "colab": {
          "base_uri": "https://localhost:8080/",
          "height": 474
        },
        "id": "Aigj4exLehgw",
        "outputId": "f0789739-42ed-48aa-cb5f-20923a045a14"
      },
      "execution_count": null,
      "outputs": [
        {
          "output_type": "display_data",
          "data": {
            "text/plain": [
              "<Figure size 640x480 with 1 Axes>"
            ],
            "image/png": "[encoded data removed]"
          },
          "metadata": {}
        }
      ]
    },
    {
      "cell_type": "markdown",
      "source": [
        "## Curva de precisión durante el entrenamiento"
      ],
      "metadata": {
        "id": "m-Vw0egKek-C"
      }
    },
    {
      "cell_type": "code",
      "source": [
        "# Gráfica de la curva de precisión durante el entrenamiento.\n",
        "# Permite observar cómo la precisión del modelo evoluciona con el número de épocas,\n",
        "# identificando posibles signos de sobreajuste o estancamiento.\n",
        "\n",
        "plt.plot(model.accuracies)\n",
        "plt.xlabel(\"Épocas\")\n",
        "plt.ylabel(\"Precisión\")\n",
        "plt.title(\"Curva de precisión durante el entrenamiento\")\n",
        "plt.grid(True)\n",
        "plt.show()"
      ],
      "metadata": {
        "colab": {
          "base_uri": "https://localhost:8080/",
          "height": 474
        },
        "id": "00i4iQjwep-e",
        "outputId": "aefa3f04-5681-4d70-dc9c-5e84e7b6b82d"
      },
      "execution_count": null,
      "outputs": [
        {
          "output_type": "display_data",
          "data": {
            "text/plain": [
              "<Figure size 640x480 with 1 Axes>"
            ],
            "image/png": "[encoded data removed]"
          },
          "metadata": {}
        }
      ]
    }
  ],
  "metadata": {
    "colab": {
      "provenance": [],
      "include_colab_link": true
    },
    "kernelspec": {
      "display_name": "Python 3",
      "name": "python3"
    },
    "language_info": {
      "name": "python"
    }
  },
  "nbformat": 4,
  "nbformat_minor": 0
}